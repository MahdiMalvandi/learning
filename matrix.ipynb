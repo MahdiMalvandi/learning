{
 "cells": [
  {
   "cell_type": "code",
   "execution_count": 35,
   "outputs": [],
   "source": [
    "import numpy as np"
   ],
   "metadata": {
    "collapsed": false,
    "ExecuteTime": {
     "end_time": "2024-06-10T17:14:43.834580400Z",
     "start_time": "2024-06-10T17:14:43.753068700Z"
    }
   }
  },
  {
   "cell_type": "code",
   "execution_count": 36,
   "outputs": [],
   "source": [
    "A = np.array([[2, 7],[1, 9],[0, -7]])"
   ],
   "metadata": {
    "collapsed": false,
    "ExecuteTime": {
     "end_time": "2024-06-10T17:14:43.835578900Z",
     "start_time": "2024-06-10T17:14:43.757877Z"
    }
   }
  },
  {
   "cell_type": "code",
   "execution_count": 37,
   "outputs": [],
   "source": [
    "B = np.array([[7,-1, 0],[1,2, -3]])"
   ],
   "metadata": {
    "collapsed": false,
    "ExecuteTime": {
     "end_time": "2024-06-10T17:14:43.835578900Z",
     "start_time": "2024-06-10T17:14:43.762422500Z"
    }
   }
  },
  {
   "cell_type": "markdown",
   "source": [
    "## Multiplication of two matrices"
   ],
   "metadata": {
    "collapsed": false
   }
  },
  {
   "cell_type": "code",
   "execution_count": 38,
   "outputs": [],
   "source": [
    "result = np.dot(A, B)"
   ],
   "metadata": {
    "collapsed": false,
    "ExecuteTime": {
     "end_time": "2024-06-10T17:14:43.862238600Z",
     "start_time": "2024-06-10T17:14:43.781434800Z"
    }
   }
  },
  {
   "cell_type": "markdown",
   "source": [
    "## Addition and subtraction of two matrices"
   ],
   "metadata": {
    "collapsed": false
   }
  },
  {
   "cell_type": "code",
   "execution_count": 39,
   "outputs": [],
   "source": [
    "A = np.array([[1, 25, 3, 4],\n",
    "              [2, 6, 7, 8],\n",
    "              [9, 16, 13, 12]])"
   ],
   "metadata": {
    "collapsed": false,
    "ExecuteTime": {
     "end_time": "2024-06-10T17:14:43.880236800Z",
     "start_time": "2024-06-10T17:14:43.803658400Z"
    }
   }
  },
  {
   "cell_type": "code",
   "execution_count": 40,
   "outputs": [],
   "source": [
    "B = np.array([[12, 21, 10, 9],\n",
    "              [81, 87, 6, 5],\n",
    "              [4, 3, 6, 1]])"
   ],
   "metadata": {
    "collapsed": false,
    "ExecuteTime": {
     "end_time": "2024-06-10T17:14:43.881238200Z",
     "start_time": "2024-06-10T17:14:43.804657500Z"
    }
   }
  },
  {
   "cell_type": "code",
   "execution_count": 41,
   "outputs": [],
   "source": [
    "sum_result = A + B"
   ],
   "metadata": {
    "collapsed": false,
    "ExecuteTime": {
     "end_time": "2024-06-10T17:14:43.881238200Z",
     "start_time": "2024-06-10T17:14:43.805658Z"
    }
   }
  },
  {
   "cell_type": "code",
   "execution_count": 42,
   "outputs": [],
   "source": [
    "diff_result = A - B"
   ],
   "metadata": {
    "collapsed": false,
    "ExecuteTime": {
     "end_time": "2024-06-10T17:14:43.881238200Z",
     "start_time": "2024-06-10T17:14:43.809075100Z"
    }
   }
  },
  {
   "cell_type": "code",
   "execution_count": 43,
   "outputs": [
    {
     "name": "stdout",
     "output_type": "stream",
     "text": [
      "[[13 46 13 13]\n",
      " [83 93 13 13]\n",
      " [13 19 19 13]]\n"
     ]
    }
   ],
   "source": [
    "print(sum_result)"
   ],
   "metadata": {
    "collapsed": false,
    "ExecuteTime": {
     "end_time": "2024-06-10T17:14:43.882238500Z",
     "start_time": "2024-06-10T17:14:43.814144700Z"
    }
   }
  },
  {
   "cell_type": "code",
   "execution_count": 44,
   "outputs": [
    {
     "name": "stdout",
     "output_type": "stream",
     "text": [
      "[[-11   4  -7  -5]\n",
      " [-79 -81   1   3]\n",
      " [  5  13   7  11]]\n"
     ]
    }
   ],
   "source": [
    "print(diff_result)"
   ],
   "metadata": {
    "collapsed": false,
    "ExecuteTime": {
     "end_time": "2024-06-10T17:14:43.882238500Z",
     "start_time": "2024-06-10T17:14:43.819671600Z"
    }
   }
  },
  {
   "cell_type": "code",
   "execution_count": 44,
   "outputs": [],
   "source": [],
   "metadata": {
    "collapsed": false,
    "ExecuteTime": {
     "end_time": "2024-06-10T17:14:43.882238500Z",
     "start_time": "2024-06-10T17:14:43.825578800Z"
    }
   }
  },
  {
   "cell_type": "code",
   "execution_count": null,
   "outputs": [],
   "source": [],
   "metadata": {
    "collapsed": false
   }
  }
 ],
 "metadata": {
  "kernelspec": {
   "display_name": "Python 3",
   "language": "python",
   "name": "python3"
  },
  "language_info": {
   "codemirror_mode": {
    "name": "ipython",
    "version": 2
   },
   "file_extension": ".py",
   "mimetype": "text/x-python",
   "name": "python",
   "nbconvert_exporter": "python",
   "pygments_lexer": "ipython2",
   "version": "2.7.6"
  }
 },
 "nbformat": 4,
 "nbformat_minor": 0
}
